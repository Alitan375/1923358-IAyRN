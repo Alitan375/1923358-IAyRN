{
  "nbformat": 4,
  "nbformat_minor": 0,
  "metadata": {
    "colab": {
      "provenance": []
    },
    "kernelspec": {
      "name": "python3",
      "display_name": "Python 3"
    },
    "language_info": {
      "name": "python"
    }
  },
  "cells": [
    {
      "cell_type": "markdown",
      "source": [
        "Actividad 2: Diseño de algoritmos en Phyton\n",
        "\n",
        "Alan Rodolfo Guerra Lopez 1923358 Hora:N1"
      ],
      "metadata": {
        "id": "RlA6vTclfjO1"
      }
    },
    {
      "cell_type": "markdown",
      "source": [
        "1- Desarrolla un algoritmo que le pida al usuario por su nombre y que lo salude con su nombre, excepto si se llama “Ana”, “Juan”, y “Pedro”."
      ],
      "metadata": {
        "id": "2bb2fGOB71P9"
      }
    },
    {
      "cell_type": "code",
      "execution_count": 1,
      "metadata": {
        "colab": {
          "base_uri": "https://localhost:8080/"
        },
        "id": "SOfnWfVUFO8q",
        "outputId": "357e2f9f-e999-410f-da00-1514e8bc1ba4"
      },
      "outputs": [
        {
          "output_type": "stream",
          "name": "stdout",
          "text": [
            "¿Cuál es tu nombre? Alan \n",
            "Hola Alan \n"
          ]
        }
      ],
      "source": [
        "nombre = input(\"¿Cuál es tu nombre? \")\n",
        "if nombre not in [\"Ana\", \"Juan\", \"Pedro\"]:\n",
        "    print(\"Hola\", nombre)"
      ]
    },
    {
      "cell_type": "markdown",
      "source": [
        "2- Desarrolla un algoritmo que por medio de una función, le pida al usuario una lista de N elementos y como resultado invierta el sentido de la lista."
      ],
      "metadata": {
        "id": "CbbqZEhF78n9"
      }
    },
    {
      "cell_type": "code",
      "source": [
        "def invertir_lista(lista):\n",
        "  \"\"\"\n",
        "  Esta función invierte el sentido de una lista.\n",
        "\n",
        "  Args:\n",
        "    lista: La lista a invertir.\n",
        "\n",
        "  Returns:\n",
        "    La lista invertida.\n",
        "  \"\"\"\n",
        "\n",
        "  # Crear una nueva lista vacía para almacenar la lista invertida.\n",
        "  lista_invertida = []\n",
        "\n",
        "  # Recorrer la lista original en sentido inverso.\n",
        "  for i in range(len(lista) - 1, -1, -1):\n",
        "    # Agregar el elemento actual de la lista original a la lista invertida.\n",
        "    lista_invertida.append(lista[i])\n",
        "\n",
        "  # Devolver la lista invertida.\n",
        "  return lista_invertida\n",
        "\n",
        "\n",
        "# Pedir al usuario que ingrese una lista de elementos.\n",
        "lista = input(\"Ingresa una lista de elementos separados por comas: \").split(\",\")\n",
        "\n",
        "# Invertir la lista.\n",
        "lista_invertida = invertir_lista(lista)\n",
        "\n",
        "# Imprimir la lista invertida.\n",
        "print(\"La lista invertida es:\", lista_invertida)"
      ],
      "metadata": {
        "colab": {
          "base_uri": "https://localhost:8080/"
        },
        "id": "GLMSqof7gMXo",
        "outputId": "bf4cd539-1dc1-4a45-c33e-73a09ee472aa"
      },
      "execution_count": 2,
      "outputs": [
        {
          "output_type": "stream",
          "name": "stdout",
          "text": [
            "Ingresa una lista de elementos separados por comas: 1,2,3,4,5,6,7,8,9\n",
            "La lista invertida es: ['9', '8', '7', '6', '5', '4', '3', '2', '1']\n"
          ]
        }
      ]
    },
    {
      "cell_type": "markdown",
      "source": [
        "3- Desarrolla un algoritmo que le pregunte al usuario cuántos números de la serie de Fibonacci quiere generar y que al final los imprima"
      ],
      "metadata": {
        "id": "w97act_b8EUR"
      }
    },
    {
      "cell_type": "code",
      "source": [
        "# Pedir al usuario cuántos números de la serie de Fibonacci quiere generar.\n",
        "n = int(input(\"¿Cuántos números de la serie de Fibonacci quieres generar? \"))\n",
        "\n",
        "# Inicializar las variables que almacenarán los dos primeros números de la serie.\n",
        "a, b = 0, 1\n",
        "\n",
        "# Imprimir los dos primeros números de la serie.\n",
        "print(a)\n",
        "print(b)\n",
        "\n",
        "# Generar los siguientes n-2 números de la serie.\n",
        "for i in range(2, n):\n",
        "  # Calcular el siguiente número de la serie.\n",
        "  c = a + b\n",
        "\n",
        "  # Imprimir el número.\n",
        "  print(c)\n",
        "\n",
        "  # Actualizar los valores de a y b.\n",
        "  a = b\n",
        "  b = c"
      ],
      "metadata": {
        "colab": {
          "base_uri": "https://localhost:8080/"
        },
        "id": "vQ_sghVaggmf",
        "outputId": "0689fe87-6946-4c2d-a8d2-a76b919e10ef"
      },
      "execution_count": 3,
      "outputs": [
        {
          "output_type": "stream",
          "name": "stdout",
          "text": [
            "¿Cuántos números de la serie de Fibonacci quieres generar? 8\n",
            "0\n",
            "1\n",
            "1\n",
            "2\n",
            "3\n",
            "5\n",
            "8\n",
            "13\n"
          ]
        }
      ]
    },
    {
      "cell_type": "markdown",
      "source": [
        "4- Juego de adivinar el número: Crea un programa que genere un número aleatorio entre 1 y 100, y luego le pida al usuario que adivine el número. El programa debe proporcionar pistas al usuario si el número es mayor o menor que el número objetivo, y seguir solicitando un nuevo intento hasta que el usuario adivine correctamente."
      ],
      "metadata": {
        "id": "uGCGO-868LDD"
      }
    },
    {
      "cell_type": "code",
      "source": [
        "import random\n",
        "\n",
        "# Generar un número aleatorio entre 1 y 100.\n",
        "numero_objetivo = random.randint(1, 100)\n",
        "\n",
        "# Inicializar la variable que almacena el número de intentos.\n",
        "intentos = 0\n",
        "\n",
        "# Solicitar al usuario que adivine el número.\n",
        "while True:\n",
        "  # Incrementar el número de intentos.\n",
        "  intentos += 1\n",
        "\n",
        "  # Pedir al usuario que ingrese un número.\n",
        "  numero_usuario = int(input(\"Adivina el número (entre 1 y 100): \"))\n",
        "\n",
        "  # Comprobar si el número ingresado es igual al número objetivo.\n",
        "  if numero_usuario == numero_objetivo:\n",
        "    # Imprimir un mensaje de felicitación.\n",
        "    print(\"¡Felicidades! Adivinaste el número en\", intentos, \"intentos.\")\n",
        "    # Salir del bucle.\n",
        "    break\n",
        "  # Comprobar si el número ingresado es mayor que el número objetivo.\n",
        "  elif numero_usuario > numero_objetivo:\n",
        "    # Imprimir una pista.\n",
        "    print(\"El número que ingresaste es mayor que el número objetivo.\")\n",
        "  # Comprobar si el número ingresado es menor que el número objetivo.\n",
        "  else:\n",
        "    # Imprimir una pista.\n",
        "    print(\"El número que ingresaste es menor que el número objetivo.\")7"
      ],
      "metadata": {
        "colab": {
          "base_uri": "https://localhost:8080/",
          "height": 859
        },
        "id": "CYQAZJAtg_4A",
        "outputId": "72c75263-39bf-4950-f199-b3ff15398ddd"
      },
      "execution_count": 4,
      "outputs": [
        {
          "metadata": {
            "tags": null
          },
          "name": "stdout",
          "output_type": "stream",
          "text": [
            "El número que ingresaste es menor que el número objetivo.\n",
            "El número que ingresaste es menor que el número objetivo.\n",
            "El número que ingresaste es menor que el número objetivo.\n",
            "El número que ingresaste es mayor que el número objetivo.\n",
            "El número que ingresaste es mayor que el número objetivo.\n",
            "El número que ingresaste es mayor que el número objetivo.\n",
            "El número que ingresaste es mayor que el número objetivo.\n",
            "El número que ingresaste es mayor que el número objetivo.\n",
            "El número que ingresaste es mayor que el número objetivo.\n",
            "El número que ingresaste es menor que el número objetivo.\n",
            "El número que ingresaste es mayor que el número objetivo.\n",
            "El número que ingresaste es mayor que el número objetivo.\n",
            "El número que ingresaste es mayor que el número objetivo.\n",
            "El número que ingresaste es mayor que el número objetivo.\n",
            "El número que ingresaste es menor que el número objetivo.\n",
            "El número que ingresaste es menor que el número objetivo.\n",
            "El número que ingresaste es menor que el número objetivo.\n",
            "El número que ingresaste es menor que el número objetivo.\n",
            "El número que ingresaste es menor que el número objetivo.\n",
            "El número que ingresaste es menor que el número objetivo.\n",
            "El número que ingresaste es menor que el número objetivo.\n",
            "El número que ingresaste es menor que el número objetivo.\n",
            "El número que ingresaste es menor que el número objetivo.\n",
            "El número que ingresaste es mayor que el número objetivo.\n",
            "El número que ingresaste es menor que el número objetivo.\n",
            "El número que ingresaste es mayor que el número objetivo.\n",
            "El número que ingresaste es menor que el número objetivo.\n",
            "El número que ingresaste es mayor que el número objetivo.\n",
            "El número que ingresaste es mayor que el número objetivo.\n"
          ]
        },
        {
          "output_type": "error",
          "ename": "KeyboardInterrupt",
          "evalue": "Interrupted by user",
          "traceback": [
            "\u001b[0;31m---------------------------------------------------------------------------\u001b[0m",
            "\u001b[0;31mKeyboardInterrupt\u001b[0m                         Traceback (most recent call last)",
            "\u001b[0;32m<ipython-input-4-d8f4f9bce502>\u001b[0m in \u001b[0;36m<cell line: 10>\u001b[0;34m()\u001b[0m\n\u001b[1;32m     13\u001b[0m \u001b[0;34m\u001b[0m\u001b[0m\n\u001b[1;32m     14\u001b[0m   \u001b[0;31m# Pedir al usuario que ingrese un número.\u001b[0m\u001b[0;34m\u001b[0m\u001b[0;34m\u001b[0m\u001b[0m\n\u001b[0;32m---> 15\u001b[0;31m   \u001b[0mnumero_usuario\u001b[0m \u001b[0;34m=\u001b[0m \u001b[0mint\u001b[0m\u001b[0;34m(\u001b[0m\u001b[0minput\u001b[0m\u001b[0;34m(\u001b[0m\u001b[0;34m\"Adivina el número (entre 1 y 100): \"\u001b[0m\u001b[0;34m)\u001b[0m\u001b[0;34m)\u001b[0m\u001b[0;34m\u001b[0m\u001b[0;34m\u001b[0m\u001b[0m\n\u001b[0m\u001b[1;32m     16\u001b[0m \u001b[0;34m\u001b[0m\u001b[0m\n\u001b[1;32m     17\u001b[0m   \u001b[0;31m# Comprobar si el número ingresado es igual al número objetivo.\u001b[0m\u001b[0;34m\u001b[0m\u001b[0;34m\u001b[0m\u001b[0m\n",
            "\u001b[0;32m/usr/local/lib/python3.10/dist-packages/ipykernel/kernelbase.py\u001b[0m in \u001b[0;36mraw_input\u001b[0;34m(self, prompt)\u001b[0m\n\u001b[1;32m    849\u001b[0m                 \u001b[0;34m\"raw_input was called, but this frontend does not support input requests.\"\u001b[0m\u001b[0;34m\u001b[0m\u001b[0;34m\u001b[0m\u001b[0m\n\u001b[1;32m    850\u001b[0m             )\n\u001b[0;32m--> 851\u001b[0;31m         return self._input_request(str(prompt),\n\u001b[0m\u001b[1;32m    852\u001b[0m             \u001b[0mself\u001b[0m\u001b[0;34m.\u001b[0m\u001b[0m_parent_ident\u001b[0m\u001b[0;34m,\u001b[0m\u001b[0;34m\u001b[0m\u001b[0;34m\u001b[0m\u001b[0m\n\u001b[1;32m    853\u001b[0m             \u001b[0mself\u001b[0m\u001b[0;34m.\u001b[0m\u001b[0m_parent_header\u001b[0m\u001b[0;34m,\u001b[0m\u001b[0;34m\u001b[0m\u001b[0;34m\u001b[0m\u001b[0m\n",
            "\u001b[0;32m/usr/local/lib/python3.10/dist-packages/ipykernel/kernelbase.py\u001b[0m in \u001b[0;36m_input_request\u001b[0;34m(self, prompt, ident, parent, password)\u001b[0m\n\u001b[1;32m    893\u001b[0m             \u001b[0;32mexcept\u001b[0m \u001b[0mKeyboardInterrupt\u001b[0m\u001b[0;34m:\u001b[0m\u001b[0;34m\u001b[0m\u001b[0;34m\u001b[0m\u001b[0m\n\u001b[1;32m    894\u001b[0m                 \u001b[0;31m# re-raise KeyboardInterrupt, to truncate traceback\u001b[0m\u001b[0;34m\u001b[0m\u001b[0;34m\u001b[0m\u001b[0m\n\u001b[0;32m--> 895\u001b[0;31m                 \u001b[0;32mraise\u001b[0m \u001b[0mKeyboardInterrupt\u001b[0m\u001b[0;34m(\u001b[0m\u001b[0;34m\"Interrupted by user\"\u001b[0m\u001b[0;34m)\u001b[0m \u001b[0;32mfrom\u001b[0m \u001b[0;32mNone\u001b[0m\u001b[0;34m\u001b[0m\u001b[0;34m\u001b[0m\u001b[0m\n\u001b[0m\u001b[1;32m    896\u001b[0m             \u001b[0;32mexcept\u001b[0m \u001b[0mException\u001b[0m \u001b[0;32mas\u001b[0m \u001b[0me\u001b[0m\u001b[0;34m:\u001b[0m\u001b[0;34m\u001b[0m\u001b[0;34m\u001b[0m\u001b[0m\n\u001b[1;32m    897\u001b[0m                 \u001b[0mself\u001b[0m\u001b[0;34m.\u001b[0m\u001b[0mlog\u001b[0m\u001b[0;34m.\u001b[0m\u001b[0mwarning\u001b[0m\u001b[0;34m(\u001b[0m\u001b[0;34m\"Invalid Message:\"\u001b[0m\u001b[0;34m,\u001b[0m \u001b[0mexc_info\u001b[0m\u001b[0;34m=\u001b[0m\u001b[0;32mTrue\u001b[0m\u001b[0;34m)\u001b[0m\u001b[0;34m\u001b[0m\u001b[0;34m\u001b[0m\u001b[0m\n",
            "\u001b[0;31mKeyboardInterrupt\u001b[0m: Interrupted by user"
          ]
        }
      ]
    },
    {
      "cell_type": "markdown",
      "source": [
        "5- Ejercicio de cálculo de números primos en un rango dado: Escribe un programa que solicite al usuario un rango de números y muestre todos los números primos dentro de ese rango."
      ],
      "metadata": {
        "id": "jAsXfSvd8X0I"
      }
    },
    {
      "cell_type": "code",
      "source": [
        "# Solicitar al usuario el rango de números\n",
        "inicio = int(input(\"Ingrese el número inicial del rango: \"))\n",
        "fin = int(input(\"Ingrese el número final del rango: \"))\n",
        "\n",
        "# Iterar sobre el rango de números\n",
        "for numero in range(inicio, fin + 1):\n",
        "  # Verificar si el número es primo\n",
        "  es_primo = True\n",
        "  for divisor in range(2, int(numero**0.5) + 1):\n",
        "    if numero % divisor == 0:\n",
        "      es_primo = False\n",
        "      break\n",
        "\n",
        "  # Imprimir el número si es primo\n",
        "  if es_primo:\n",
        "    print(numero)"
      ],
      "metadata": {
        "colab": {
          "base_uri": "https://localhost:8080/"
        },
        "id": "qNT-VFsZhlJR",
        "outputId": "5ee81b08-3e71-4be4-b36e-9b610944e19d"
      },
      "execution_count": 5,
      "outputs": [
        {
          "output_type": "stream",
          "name": "stdout",
          "text": [
            "Ingrese el número inicial del rango: 2\n",
            "Ingrese el número final del rango: 6\n",
            "2\n",
            "3\n",
            "5\n"
          ]
        }
      ]
    },
    {
      "cell_type": "markdown",
      "source": [
        "6- Ejercicio de implementación de una calculadora básica utilizando funciones: Escribe un programa que solicite al usuario dos números y realice operaciones básicas como suma, resta, multiplicación y división utilizando funciones separadas para cada operación."
      ],
      "metadata": {
        "id": "dSDd5qp08dh1"
      }
    },
    {
      "cell_type": "code",
      "source": [
        "def suma(num1, num2):\n",
        "  \"\"\"\n",
        "  Esta función toma dos números como argumentos y devuelve su suma.\n",
        "\n",
        "  Args:\n",
        "      num1: El primer número.\n",
        "      num2: El segundo número.\n",
        "\n",
        "  Returns:\n",
        "      La suma de los dos números.\n",
        "  \"\"\"\n",
        "\n",
        "  return num1 + num2\n",
        "\n",
        "def resta(num1, num2):\n",
        "  \"\"\"\n",
        "  Esta función toma dos números como argumentos y devuelve su diferencia.\n",
        "\n",
        "  Args:\n",
        "      num1: El primer número.\n",
        "      num2: El segundo número.\n",
        "\n",
        "  Returns:\n",
        "      La diferencia de los dos números.\n",
        "  \"\"\"\n",
        "\n",
        "  return num1 - num2\n",
        "\n",
        "def multiplicacion(num1, num2):\n",
        "  \"\"\"\n",
        "  Esta función toma dos números como argumentos y devuelve su producto.\n",
        "\n",
        "  Args:\n",
        "      num1: El primer número.\n",
        "      num2: El segundo número.\n",
        "\n",
        "  Returns:\n",
        "      El producto de los dos números.\n",
        "  \"\"\"\n",
        "\n",
        "  return num1 * num2\n",
        "\n",
        "def division(num1, num2):\n",
        "  \"\"\"\n",
        "  Esta función toma dos números como argumentos y devuelve su cociente.\n",
        "\n",
        "  Args:\n",
        "      num1: El primer número.\n",
        "      num2: El segundo número.\n",
        "\n",
        "  Returns:\n",
        "      El cociente de los dos números.\n",
        "  \"\"\"\n",
        "\n",
        "  return num1 / num2\n",
        "\n",
        "# Obtén los dos números del usuario.\n",
        "num1 = float(input(\"Ingresa el primer valor: \"))\n",
        "num2 = float(input(\"Ingresa el segundo valor: \"))\n",
        "\n",
        "# Realiza las cuatro operaciones básicas utilizando las funciones.\n",
        "suma = suma(num1, num2)\n",
        "diferencia = resta(num1, num2)\n",
        "producto = multiplicacion(num1, num2)\n",
        "cociente = division(num1, num2)\n",
        "\n",
        "# Imprime los resultados.\n",
        "print(\"Suma:\", suma)\n",
        "print(\"Diferencia:\", diferencia)\n",
        "print(\"Producto:\", producto)\n",
        "print(\"Cociente:\", cociente)"
      ],
      "metadata": {
        "colab": {
          "base_uri": "https://localhost:8080/"
        },
        "id": "Shn-fIptiLXf",
        "outputId": "6022dca7-509f-4966-ac97-dbbc095b0136"
      },
      "execution_count": 6,
      "outputs": [
        {
          "output_type": "stream",
          "name": "stdout",
          "text": [
            "Ingresa el primer valor: 150\n",
            "Ingresa el segundo valor: 60\n",
            "Suma: 210.0\n",
            "Diferencia: 90.0\n",
            "Producto: 9000.0\n",
            "Cociente: 2.5\n"
          ]
        }
      ]
    }
  ]
}